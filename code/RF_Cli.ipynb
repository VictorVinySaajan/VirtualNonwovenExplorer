{
 "cells": [
  {
   "cell_type": "code",
   "execution_count": 2,
   "metadata": {},
   "outputs": [],
   "source": [
    "import pandas as pd\n",
    "import pickle\n",
    "\n",
    "train = pd.read_csv('../data/training_set.csv').sample(frac=1)\n",
    "test = pd.read_csv('../data/testing_set.csv').sample(frac=1)\n",
    "\n",
    "X_train = train.loc[:,'Sigma_1' : 'SpinPositionsPerMeter']\n",
    "y_train = train['cli']\n",
    "X_test = test.loc[:,'Sigma_1' : 'SpinPositionsPerMeter']\n",
    "y_test = test['cli']"
   ]
  },
  {
   "cell_type": "code",
   "execution_count": 4,
   "metadata": {},
   "outputs": [],
   "source": [
    "from sklearn.ensemble import RandomForestRegressor\n",
    "import numpy as np\n",
    "\n",
    "regr = RandomForestRegressor(n_estimators = 100)"
   ]
  },
  {
   "cell_type": "code",
   "execution_count": 6,
   "metadata": {},
   "outputs": [],
   "source": [
    "from sklearn.metrics import mean_absolute_error, mean_squared_error, r2_score"
   ]
  },
  {
   "cell_type": "code",
   "execution_count": 8,
   "metadata": {},
   "outputs": [
    {
     "name": "stdout",
     "output_type": "stream",
     "text": [
      "Coefficient of determination  0.9238800798401132\n",
      "Mean Absolute Error  0.01630126398236419\n",
      "Mean Squared Error  0.000265731207422724\n",
      "Mean Absolute Percentage Error =  0.12678545198785707\n"
     ]
    }
   ],
   "source": [
    "regr.fit(X_train, y_train)\n",
    "\n",
    "y_pred = regr.predict(X_test)\n",
    "\n",
    "print(\"Coefficient of determination \", r2_score(y_test, y_pred))\n",
    "print(\"Mean Absolute Error \", mean_squared_error(y_test, y_pred, squared=False))\n",
    "print(\"Mean Squared Error \", mean_squared_error(y_test, y_pred, squared=True))\n",
    "MAPE = np.mean(np.abs((y_test - y_pred) / y_test))\n",
    "print(\"Mean Absolute Percentage Error = \", MAPE)"
   ]
  },
  {
   "cell_type": "code",
   "execution_count": 9,
   "metadata": {},
   "outputs": [],
   "source": [
    "pickle.dump(regr, open('../ML_Models/RadomForestForCli', 'wb'))"
   ]
  },
  {
   "cell_type": "code",
   "execution_count": null,
   "metadata": {},
   "outputs": [],
   "source": []
  }
 ],
 "metadata": {
  "kernelspec": {
   "display_name": "Python 3",
   "language": "python",
   "name": "python3"
  },
  "language_info": {
   "codemirror_mode": {
    "name": "ipython",
    "version": 3
   },
   "file_extension": ".py",
   "mimetype": "text/x-python",
   "name": "python",
   "nbconvert_exporter": "python",
   "pygments_lexer": "ipython3",
   "version": "3.7.6"
  }
 },
 "nbformat": 4,
 "nbformat_minor": 4
}
